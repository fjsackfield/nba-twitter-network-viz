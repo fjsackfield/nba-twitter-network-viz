{
 "cells": [
  {
   "cell_type": "markdown",
   "metadata": {},
   "source": [
    "# MGT 8803 Project\n",
    "## NBA Color Codes Scraper\n",
    "\n",
    "### Fred Sackfield\n",
    "\n",
    "This notebook contains code to scrape team color codes from teamcolorcodes.com"
   ]
  },
  {
   "cell_type": "code",
   "execution_count": 2,
   "metadata": {},
   "outputs": [],
   "source": [
    "#import necessary libraries\n",
    "import requests\n",
    "from bs4 import BeautifulSoup\n",
    "from urllib.error import URLError, HTTPError\n",
    "import csv\n"
   ]
  },
  {
   "cell_type": "code",
   "execution_count": 3,
   "metadata": {},
   "outputs": [],
   "source": [
    "def create_soup(url):\n",
    "    try:\n",
    "        page = requests.get(url, timeout=10)\n",
    "    except HTTPError as e:\n",
    "        print('ERROR CODE: ',e.code)\n",
    "        return None\n",
    "    except URLError as e:\n",
    "        print('ERROR REASON: ',e.reason)\n",
    "        return None\n",
    "\n",
    "    html = page.text\n",
    "    soup = BeautifulSoup(html, 'html.parser')\n",
    "\n",
    "    return soup\n",
    "    "
   ]
  },
  {
   "cell_type": "code",
   "execution_count": 4,
   "metadata": {},
   "outputs": [
    {
     "name": "stdout",
     "output_type": "stream",
     "text": [
      "[{'team': 'Atlanta Hawks', 'color': '#E03A3E', 'border': ' #C1D32F'}, {'team': 'Boston Celtics', 'color': '#007a33', 'border': ' #BA9653'}, {'team': 'Brooklyn Nets', 'color': '#000', 'border': ' #000'}, {'team': 'Charlotte Hornets', 'color': '#1D1160', 'border': ' #00788c'}, {'team': 'Chicago Bulls', 'color': '#CE1141', 'border': ' #000'}, {'team': 'Cleveland Cavaliers', 'color': '#6f263d', 'border': ' #ffb81c'}, {'team': 'Dallas Mavericks', 'color': '#00538C', 'border': ' #B8C4CA'}, {'team': 'Denver Nuggets', 'color': '#00285E', 'border': ' #ffc72c'}, {'team': 'Detroit Pistons', 'color': '#ED174C', 'border': ' #006BB6'}, {'team': 'Golden State Warriors', 'color': '#006BB6', 'border': ' #fdb927'}, {'team': 'Houston Rockets', 'color': '#ce1141', 'border': ' #000000'}, {'team': 'Indiana Pacers', 'color': '#002D62', 'border': ' #fdbb30'}, {'team': 'Los Angeles Clippers', 'color': '#ED174C', 'border': ' #006bb6'}, {'team': 'Los Angeles Lakers', 'color': '#552583', 'border': ' #ffc72c'}, {'team': 'Memphis Grizzlies', 'color': '#6189B9', 'border': ' #00285E'}, {'team': 'Miami Heat', 'color': '#98002e', 'border': ' #F9A01B'}, {'team': 'Milwaukee Bucks', 'color': '#00471b', 'border': ' #eee1c6'}, {'team': 'Minnesota Timberwolves', 'color': '#0c2340', 'border': ' #236192'}, {'team': 'New Orleans Pelicans', 'color': '#002b5c', 'border': ' #E31837'}, {'team': 'New York Knicks', 'color': '#006BB6', 'border': ' #f58426'}, {'team': 'Oklahoma City Thunder', 'color': '#007AC1', 'border': ' #ef3b24'}, {'team': 'Orlando Magic', 'color': '#0057b8', 'border': ' #c2ccd2'}, {'team': 'Philadelphia 76ers', 'color': '#006BB6', 'border': ' #ED174C'}, {'team': 'Phoenix Suns', 'color': '#1D1160', 'border': ' #e56020'}, {'team': 'Portland Trail Blazers', 'color': '#E03A3E', 'border': ' #000000'}, {'team': 'Sacramento Kings', 'color': '#5A2D81', 'border': ' #63727a'}, {'team': 'San Antonio Spurs', 'color': '#000', 'border': ' #C4CED4'}, {'team': 'Toronto Raptors', 'color': '#CE1141', 'border': ' #000'}, {'team': 'Utah Jazz', 'color': '#002B5C', 'border': ' #F9A01B'}, {'team': 'Washington Wizards', 'color': '#002B5C', 'border': ' #e31837'}, {'team': 'Seattle Supersonics', 'color': '#00653a', 'border': ' #ffc200'}]\n"
     ]
    }
   ],
   "source": [
    "#create list of team colors\n",
    "colors = []\n",
    "\n",
    "soup = create_soup('https://teamcolorcodes.com/nba-team-color-codes/')\n",
    "\n",
    "team_soup = soup.find_all('a',{'class':'team-button'})\n",
    "\n",
    "for t in team_soup:\n",
    "    name = t.text\n",
    "    style = t.attrs['style']\n",
    "    clr = style.split(';')[0].split(':')[1].strip()\n",
    "    bclr = style.split('solid')[1].split(';')[0].strip()\n",
    "    colors.append({'team':name, 'color':clr, 'border':bclr})\n",
    "\n",
    "print(colors)"
   ]
  },
  {
   "cell_type": "code",
   "execution_count": 5,
   "metadata": {},
   "outputs": [],
   "source": [
    "#write player data to a csv file\n",
    "\n",
    "color_cols = ['team','color','border']\n",
    "\n",
    "csv_file = \"team_colors.csv\"\n",
    "try:\n",
    "    with open(csv_file, 'w', newline='\\n', encoding='utf-8') as csvfile:\n",
    "        writer = csv.DictWriter(csvfile, fieldnames=color_cols)\n",
    "        writer.writeheader()\n",
    "        for data in colors:\n",
    "            writer.writerow(data)\n",
    "except IOError:\n",
    "    print(\"I/O error\")"
   ]
  }
 ],
 "metadata": {
  "kernelspec": {
   "display_name": "Python 3",
   "language": "python",
   "name": "python3"
  },
  "language_info": {
   "codemirror_mode": {
    "name": "ipython",
    "version": 3
   },
   "file_extension": ".py",
   "mimetype": "text/x-python",
   "name": "python",
   "nbconvert_exporter": "python",
   "pygments_lexer": "ipython3",
   "version": "3.7.6"
  }
 },
 "nbformat": 4,
 "nbformat_minor": 4
}
